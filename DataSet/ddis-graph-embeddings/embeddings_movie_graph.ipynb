{
 "cells": [
  {
   "cell_type": "markdown",
   "metadata": {},
   "source": [
    "# Embeddings for the DDIS Movie Graph"
   ]
  },
  {
   "cell_type": "markdown",
   "metadata": {},
   "source": [
    "## Setup"
   ]
  },
  {
   "cell_type": "code",
   "execution_count": 1,
   "metadata": {},
   "outputs": [],
   "source": [
    "# imports\n",
    "import csv\n",
    "import numpy as np\n",
    "import os\n",
    "import rdflib\n",
    "import pandas as pd\n",
    "from sklearn.metrics import pairwise_distances"
   ]
  },
  {
   "cell_type": "code",
   "execution_count": 7,
   "metadata": {},
   "outputs": [],
   "source": [
    "# define some prefixes\n",
    "WD = rdflib.Namespace('http://www.wikidata.org/entity/')\n",
    "WDT = rdflib.Namespace('http://www.wikidata.org/prop/direct/')\n",
    "DDIS = rdflib.Namespace('http://ddis.ch/atai/')\n",
    "RDFS = rdflib.namespace.RDFS\n",
    "SCHEMA = rdflib.Namespace('http://schema.org/')"
   ]
  },
  {
   "cell_type": "markdown",
   "metadata": {},
   "source": [
    "## Load the data"
   ]
  },
  {
   "cell_type": "code",
   "execution_count": 9,
   "metadata": {},
   "outputs": [],
   "source": [
    "# load the graph\n",
    "graph = rdflib.Graph().parse('ddis-movie-graph.nt/14_graph.nt', format='turtle')\n"
   ]
  },
  {
   "cell_type": "code",
   "execution_count": 12,
   "metadata": {},
   "outputs": [],
   "source": [
    "# load the embeddings\n",
    "entity_emb = np.load(os.path.join( 'entity_embeds.npy'))\n",
    "relation_emb = np.load(os.path.join('relation_embeds.npy'))"
   ]
  },
  {
   "cell_type": "code",
   "execution_count": 14,
   "metadata": {},
   "outputs": [],
   "source": [
    "# load the dictionaries\n",
    "with open(os.path.join('entity_ids.del'), 'r') as ifile:\n",
    "    ent2id = {rdflib.term.URIRef(ent): int(idx) for idx, ent in csv.reader(ifile, delimiter='\\t')}\n",
    "    id2ent = {v: k for k, v in ent2id.items()}\n",
    "with open(os.path.join( 'relation_ids.del'), 'r') as ifile:\n",
    "    rel2id = {rdflib.term.URIRef(rel): int(idx) for idx, rel in csv.reader(ifile, delimiter='\\t')}\n",
    "    id2rel = {v: k for k, v in rel2id.items()}"
   ]
  },
  {
   "cell_type": "code",
   "execution_count": 15,
   "metadata": {},
   "outputs": [],
   "source": [
    "ent2lbl = {ent: str(lbl) for ent, lbl in graph.subject_objects(RDFS.label)}\n",
    "lbl2ent = {lbl: ent for ent, lbl in ent2lbl.items()}"
   ]
  },
  {
   "cell_type": "markdown",
   "metadata": {},
   "source": [
    "## Inspect the data"
   ]
  },
  {
   "cell_type": "code",
   "execution_count": 16,
   "metadata": {},
   "outputs": [
    {
     "data": {
      "text/plain": [
       "2056777"
      ]
     },
     "execution_count": 16,
     "metadata": {},
     "output_type": "execute_result"
    }
   ],
   "source": [
    "# number of triples in the graph\n",
    "len(graph)"
   ]
  },
  {
   "cell_type": "code",
   "execution_count": 17,
   "metadata": {},
   "outputs": [
    {
     "data": {
      "text/plain": [
       "158900"
      ]
     },
     "execution_count": 17,
     "metadata": {},
     "output_type": "execute_result"
    }
   ],
   "source": [
    "# number of entities in the graph\n",
    "triples = {(s, p, o) for s,p,o in graph.triples((None, None, None)) if isinstance(o, rdflib.term.URIRef)}\n",
    "len({s for s,p,o in triples} | {o for s,p,o in triples})"
   ]
  },
  {
   "cell_type": "code",
   "execution_count": 18,
   "metadata": {},
   "outputs": [
    {
     "data": {
      "text/plain": [
       "(158901, 256)"
      ]
     },
     "execution_count": 18,
     "metadata": {},
     "output_type": "execute_result"
    }
   ],
   "source": [
    "# entity embedding size\n",
    "entity_emb.shape"
   ]
  },
  {
   "cell_type": "code",
   "execution_count": 19,
   "metadata": {},
   "outputs": [
    {
     "data": {
      "text/plain": [
       "(248, 256)"
      ]
     },
     "execution_count": 19,
     "metadata": {},
     "output_type": "execute_result"
    }
   ],
   "source": [
    "# relation embedding size\n",
    "relation_emb.shape"
   ]
  },
  {
   "cell_type": "markdown",
   "metadata": {},
   "source": [
    "## Finding errors"
   ]
  },
  {
   "cell_type": "code",
   "execution_count": 20,
   "metadata": {},
   "outputs": [
    {
     "data": {
      "text/plain": [
       "{'Q329737': 'butcher'}"
      ]
     },
     "execution_count": 20,
     "metadata": {},
     "output_type": "execute_result"
    }
   ],
   "source": [
    "# let's see what our graph thinks the occupation of Jean Van Hamme is\n",
    "professions = set(graph.query('''\n",
    "    prefix wdt: <http://www.wikidata.org/prop/direct/>\n",
    "    prefix wd: <http://www.wikidata.org/entity/>\n",
    "    \n",
    "    SELECT ?obj ?lbl WHERE {\n",
    "        ?ent rdfs:label \"Jean Van Hamme\"@en .\n",
    "        ?ent wdt:P106 ?obj .\n",
    "        ?obj rdfs:label ?lbl .\n",
    "    }\n",
    "    '''))\n",
    "{ent[len(WD):]: str(lbl) for ent, lbl in professions}"
   ]
  },
  {
   "cell_type": "code",
   "execution_count": 29,
   "metadata": {},
   "outputs": [
    {
     "name": "stdout",
     "output_type": "stream",
     "text": [
      "[-2.15648285e+02 -3.43045105e+02  1.62101669e+01  1.32401404e+03\n",
      " -2.56250954e+01  5.74138298e+01  2.46062515e+02 -1.21514114e+02\n",
      " -3.26596100e+02 -1.34717758e+02 -1.47574738e+02 -1.48140198e+02\n",
      "  1.05306747e+02 -2.79783844e+02 -2.55474396e+02 -6.30456177e+02\n",
      "  4.98109894e+01  2.15843735e+02  8.40045929e+01  1.12588898e+02\n",
      " -2.35675705e+02  6.25411377e+02  2.43842072e+02 -3.12706909e+02\n",
      " -3.54335236e+02  1.53338882e+02  7.79959641e+01 -8.29916382e+01\n",
      "  6.28118172e+01 -1.43937668e+02 -1.63557709e+02  2.05709229e+02\n",
      " -2.15649292e+02  1.72930313e+02 -1.67236511e+02 -1.09734216e+03\n",
      "  1.32000702e+02 -3.79493866e+02  9.74276581e+01 -3.76270905e+02\n",
      "  2.08139205e+00 -1.30563705e+02  5.71233292e+01 -2.62667053e+02\n",
      " -5.63552513e+01 -2.70164032e+01 -4.57405128e+01  1.09456078e+02\n",
      " -9.02489662e+00 -2.83179871e+02  6.51567917e+01 -1.39847443e+02\n",
      " -4.29040009e+02  4.61027184e+01 -7.60779495e+01  2.24534729e+02\n",
      " -1.18828796e+02  3.03453186e+02 -1.85770660e+02  6.11215286e+01\n",
      " -1.20118322e+01 -4.48816967e+00 -2.46211334e+02  7.25113297e+01\n",
      " -3.70909386e+01  1.91405449e+01  1.80416840e+02 -4.46805359e+02\n",
      " -6.65752640e+01 -4.39254532e+01  9.34494247e+01 -1.83175949e+02\n",
      " -5.28231262e+02 -1.93471786e+02  1.71545654e+02  8.43431244e+01\n",
      " -2.96378143e+02  3.96601181e+01  2.58324097e+02 -1.56224566e+01\n",
      " -1.38351669e+02 -4.79519997e+01  2.53552475e+02  4.14528351e+02\n",
      "  1.61510910e+02 -1.55835358e+02  5.15804024e+01  2.55142792e+02\n",
      " -1.34382080e+02  9.28267212e+01 -5.15172005e+01  7.00428619e+01\n",
      " -6.66150818e+01  1.24639442e+02 -3.08695736e+01 -3.20038025e+02\n",
      "  1.13061609e+01  3.96086617e+01 -1.31540002e+03  4.70403767e+00\n",
      " -2.27440552e+02  1.12358200e+02  4.25088539e+01 -1.05974144e+02\n",
      "  5.88742943e+01 -1.78770538e+02 -1.82776550e+02  1.70022095e+02\n",
      " -8.94745865e+01 -2.04484772e+02 -2.81121277e+02  3.33552002e+02\n",
      " -1.29384775e+01  4.08318481e+01 -1.03201843e+02 -9.30210419e+01\n",
      " -1.02565881e+03  2.51858704e+02 -8.23675079e+01 -4.87382202e+01\n",
      " -2.34516907e+02 -2.93854340e+02 -1.93505081e+02  1.03334999e+02\n",
      " -1.82707687e+02 -5.82467041e+01  5.51683533e+02  5.77275429e+01\n",
      "  1.93285324e+02  2.76048218e+02 -1.85792969e+02  7.32409851e+02\n",
      "  1.04119702e+03  2.58982056e+02  1.79430374e+02 -2.10499359e+02\n",
      "  3.70335052e+02 -7.83063660e+01  1.23609818e+02  5.60430813e+00\n",
      "  7.13056885e+02  1.67453522e+02 -2.92629681e+01 -2.03397339e+02\n",
      "  1.45755600e+02  3.19645721e+02  1.03726067e+02  2.38070694e+02\n",
      " -9.44437561e+01  4.11180763e+01  1.15586563e+02 -3.20209686e+02\n",
      " -3.54508400e+01 -1.65063797e+02 -5.11151733e+01  2.69715515e+02\n",
      " -1.72016106e+01 -1.47852814e+02 -2.36661850e+02  4.88650017e+01\n",
      " -1.19981613e+02  3.76723419e+02  2.87768677e+02  1.05820114e+02\n",
      " -3.91915070e+02  2.91414124e+02  3.87642174e+01  4.73703552e+02\n",
      "  2.76816498e+02 -3.65041473e+02  7.13185196e+01 -1.04602364e+02\n",
      "  3.64945709e+02 -3.47042999e+02 -1.17719925e+02 -2.22642914e+02\n",
      "  1.13995705e+01  8.38032227e+01 -1.31004211e+02  4.30505127e+02\n",
      " -1.39477890e+02 -1.02763840e+02  1.27637871e+02 -5.17174301e+01\n",
      " -7.75903320e+01  3.22704834e+02 -3.61688599e+02  3.37895752e+02\n",
      " -2.10141846e+02 -3.20063438e+01 -2.61393188e+02  1.11673187e+02\n",
      "  7.38671112e+00 -8.31528931e+01 -2.51644325e+01  1.76553680e+02\n",
      " -1.16450859e+02  1.53224838e+02  3.32703979e+02  3.08122005e+01\n",
      " -8.90018921e+01 -1.80935837e+02  1.48711884e+02 -7.61012695e+02\n",
      "  5.89333382e+01 -6.51276550e+01  2.08315842e+02 -1.03982983e+03\n",
      " -3.23646774e+01  1.51197937e+02  1.60013092e+02 -3.23336914e+02\n",
      "  8.24659576e+01  3.77421448e+02 -3.40432709e+02  3.83003845e+02\n",
      " -2.39468628e+02 -1.05588661e+02 -1.18903839e+02 -3.44334625e+02\n",
      " -1.17655090e+02  2.34526413e+02 -1.65284821e+02 -2.33044235e+02\n",
      "  1.45334534e+02 -1.23745354e+02  5.30961761e+01  7.06732483e+01\n",
      "  6.62826309e+01  5.60989456e+01 -1.28070114e+02 -3.50518982e+02\n",
      "  3.69171478e+02  2.09875732e+02  2.20144821e+02 -4.24467896e+02\n",
      " -6.49584839e+02 -1.23280876e+02  5.88920517e+01 -2.79775360e+02\n",
      " -6.63047256e+01 -2.71629691e-01  1.56545883e+02  2.95462830e+02\n",
      " -1.34212051e+02 -1.95308685e+02 -6.32873535e+01 -1.33464231e+01\n",
      "  1.89309189e+02 -1.23532906e+02  3.19797852e+02  2.46485855e+02\n",
      " -7.37927551e+01  1.24061440e+02 -1.69583340e+01 -2.48245804e+02]\n"
     ]
    }
   ],
   "source": [
    "# \"Jean Van Hamme\" entity\n",
    "head = entity_emb[ent2id[WD.Q428160]]\n",
    "# \"occupation\" relation\n",
    "pred = relation_emb[rel2id[WDT.P106]]\n",
    "print(pred)\n",
    "# add vectors according to TransE scoring function.\n",
    "lhs = head + pred\n",
    "# compute distance to *any* entity\n",
    "dist = pairwise_distances(lhs.reshape(1, -1), entity_emb).reshape(-1)\n",
    "# find most plausible entities\n",
    "most_likely = dist.argsort()\n",
    "# compute ranks of entities\n",
    "ranks = dist.argsort().argsort()"
   ]
  },
  {
   "cell_type": "code",
   "execution_count": 22,
   "metadata": {},
   "outputs": [
    {
     "data": {
      "text/html": [
       "<div>\n",
       "<style scoped>\n",
       "    .dataframe tbody tr th:only-of-type {\n",
       "        vertical-align: middle;\n",
       "    }\n",
       "\n",
       "    .dataframe tbody tr th {\n",
       "        vertical-align: top;\n",
       "    }\n",
       "\n",
       "    .dataframe thead th {\n",
       "        text-align: right;\n",
       "    }\n",
       "</style>\n",
       "<table border=\"1\" class=\"dataframe\">\n",
       "  <thead>\n",
       "    <tr style=\"text-align: right;\">\n",
       "      <th></th>\n",
       "      <th>Occupation</th>\n",
       "      <th>Score</th>\n",
       "      <th>Rank</th>\n",
       "    </tr>\n",
       "  </thead>\n",
       "  <tbody>\n",
       "    <tr>\n",
       "      <th>0</th>\n",
       "      <td>butcher</td>\n",
       "      <td>5196.63623</td>\n",
       "      <td>86817</td>\n",
       "    </tr>\n",
       "  </tbody>\n",
       "</table>\n",
       "</div>"
      ],
      "text/plain": [
       "  Occupation       Score   Rank\n",
       "0    butcher  5196.63623  86817"
      ]
     },
     "execution_count": 22,
     "metadata": {},
     "output_type": "execute_result"
    }
   ],
   "source": [
    "# show scores for (Jean Van Hamme, occupation, butcher)\n",
    "pd.DataFrame([(str(lbl), dist[ent2id[ent]], ranks[ent2id[ent]]) for ent, lbl in professions],\n",
    "        columns=('Occupation', 'Score', 'Rank'))"
   ]
  },
  {
   "cell_type": "code",
   "execution_count": 23,
   "metadata": {},
   "outputs": [
    {
     "data": {
      "text/html": [
       "<div>\n",
       "<style scoped>\n",
       "    .dataframe tbody tr th:only-of-type {\n",
       "        vertical-align: middle;\n",
       "    }\n",
       "\n",
       "    .dataframe tbody tr th {\n",
       "        vertical-align: top;\n",
       "    }\n",
       "\n",
       "    .dataframe thead th {\n",
       "        text-align: right;\n",
       "    }\n",
       "</style>\n",
       "<table border=\"1\" class=\"dataframe\">\n",
       "  <thead>\n",
       "    <tr style=\"text-align: right;\">\n",
       "      <th></th>\n",
       "      <th>Entity</th>\n",
       "      <th>Label</th>\n",
       "      <th>Score</th>\n",
       "      <th>Rank</th>\n",
       "    </tr>\n",
       "  </thead>\n",
       "  <tbody>\n",
       "    <tr>\n",
       "      <th>0</th>\n",
       "      <td>Q36180</td>\n",
       "      <td>writer</td>\n",
       "      <td>3223.151367</td>\n",
       "      <td>1</td>\n",
       "    </tr>\n",
       "    <tr>\n",
       "      <th>1</th>\n",
       "      <td>Q33999</td>\n",
       "      <td>actor</td>\n",
       "      <td>3382.129883</td>\n",
       "      <td>2</td>\n",
       "    </tr>\n",
       "    <tr>\n",
       "      <th>2</th>\n",
       "      <td>Q6625963</td>\n",
       "      <td>novelist</td>\n",
       "      <td>3397.582520</td>\n",
       "      <td>3</td>\n",
       "    </tr>\n",
       "    <tr>\n",
       "      <th>3</th>\n",
       "      <td>Q1930187</td>\n",
       "      <td>journalist</td>\n",
       "      <td>3492.735352</td>\n",
       "      <td>4</td>\n",
       "    </tr>\n",
       "    <tr>\n",
       "      <th>4</th>\n",
       "      <td>Q4610556</td>\n",
       "      <td>model</td>\n",
       "      <td>3549.961182</td>\n",
       "      <td>5</td>\n",
       "    </tr>\n",
       "    <tr>\n",
       "      <th>5</th>\n",
       "      <td>Q639669</td>\n",
       "      <td>musician</td>\n",
       "      <td>3616.397949</td>\n",
       "      <td>6</td>\n",
       "    </tr>\n",
       "    <tr>\n",
       "      <th>6</th>\n",
       "      <td>Q67311526</td>\n",
       "      <td>Obalky knih.cz</td>\n",
       "      <td>3628.230957</td>\n",
       "      <td>7</td>\n",
       "    </tr>\n",
       "    <tr>\n",
       "      <th>7</th>\n",
       "      <td>Q150</td>\n",
       "      <td>French</td>\n",
       "      <td>3667.630615</td>\n",
       "      <td>8</td>\n",
       "    </tr>\n",
       "    <tr>\n",
       "      <th>8</th>\n",
       "      <td>Q1028181</td>\n",
       "      <td>painter</td>\n",
       "      <td>3694.667480</td>\n",
       "      <td>9</td>\n",
       "    </tr>\n",
       "    <tr>\n",
       "      <th>9</th>\n",
       "      <td>Q245068</td>\n",
       "      <td>comedian</td>\n",
       "      <td>3744.303955</td>\n",
       "      <td>10</td>\n",
       "    </tr>\n",
       "  </tbody>\n",
       "</table>\n",
       "</div>"
      ],
      "text/plain": [
       "      Entity           Label        Score  Rank\n",
       "0     Q36180          writer  3223.151367     1\n",
       "1     Q33999           actor  3382.129883     2\n",
       "2   Q6625963        novelist  3397.582520     3\n",
       "3   Q1930187      journalist  3492.735352     4\n",
       "4   Q4610556           model  3549.961182     5\n",
       "5    Q639669        musician  3616.397949     6\n",
       "6  Q67311526  Obalky knih.cz  3628.230957     7\n",
       "7       Q150          French  3667.630615     8\n",
       "8   Q1028181         painter  3694.667480     9\n",
       "9    Q245068        comedian  3744.303955    10"
      ]
     },
     "execution_count": 23,
     "metadata": {},
     "output_type": "execute_result"
    }
   ],
   "source": [
    "# what would be more plausible occupations?\n",
    "pd.DataFrame([\n",
    "    (id2ent[idx][len(WD):], ent2lbl[id2ent[idx]], dist[idx], rank+1)\n",
    "    for rank, idx in enumerate(most_likely[:10])],\n",
    "    columns=('Entity', 'Label', 'Score', 'Rank'))"
   ]
  },
  {
   "cell_type": "markdown",
   "metadata": {},
   "source": [
    "## Entity Similarity"
   ]
  },
  {
   "cell_type": "code",
   "execution_count": 24,
   "metadata": {},
   "outputs": [
    {
     "data": {
      "text/html": [
       "<div>\n",
       "<style scoped>\n",
       "    .dataframe tbody tr th:only-of-type {\n",
       "        vertical-align: middle;\n",
       "    }\n",
       "\n",
       "    .dataframe tbody tr th {\n",
       "        vertical-align: top;\n",
       "    }\n",
       "\n",
       "    .dataframe thead th {\n",
       "        text-align: right;\n",
       "    }\n",
       "</style>\n",
       "<table border=\"1\" class=\"dataframe\">\n",
       "  <thead>\n",
       "    <tr style=\"text-align: right;\">\n",
       "      <th></th>\n",
       "      <th>Entity</th>\n",
       "      <th>Label</th>\n",
       "      <th>Score</th>\n",
       "      <th>Rank</th>\n",
       "    </tr>\n",
       "  </thead>\n",
       "  <tbody>\n",
       "    <tr>\n",
       "      <th>0</th>\n",
       "      <td>Q102225</td>\n",
       "      <td>Harry Potter and the Goblet of Fire</td>\n",
       "      <td>0.000000</td>\n",
       "      <td>1</td>\n",
       "    </tr>\n",
       "    <tr>\n",
       "      <th>1</th>\n",
       "      <td>Q102235</td>\n",
       "      <td>Harry Potter and the Order of the Phoenix</td>\n",
       "      <td>1839.364746</td>\n",
       "      <td>2</td>\n",
       "    </tr>\n",
       "    <tr>\n",
       "      <th>2</th>\n",
       "      <td>Q161678</td>\n",
       "      <td>Harry Potter and the Deathly Hallows – Part 1</td>\n",
       "      <td>1864.835327</td>\n",
       "      <td>3</td>\n",
       "    </tr>\n",
       "    <tr>\n",
       "      <th>3</th>\n",
       "      <td>Q161687</td>\n",
       "      <td>Harry Potter and the Half-Blood Prince</td>\n",
       "      <td>1895.976562</td>\n",
       "      <td>4</td>\n",
       "    </tr>\n",
       "    <tr>\n",
       "      <th>4</th>\n",
       "      <td>Q232009</td>\n",
       "      <td>Harry Potter and the Deathly Hallows – Part 2</td>\n",
       "      <td>1941.686646</td>\n",
       "      <td>5</td>\n",
       "    </tr>\n",
       "    <tr>\n",
       "      <th>5</th>\n",
       "      <td>Q102244</td>\n",
       "      <td>Harry Potter and the Chamber of Secrets</td>\n",
       "      <td>2000.969482</td>\n",
       "      <td>6</td>\n",
       "    </tr>\n",
       "    <tr>\n",
       "      <th>6</th>\n",
       "      <td>Q102438</td>\n",
       "      <td>Harry Potter and the Philosopher's Stone</td>\n",
       "      <td>2059.114502</td>\n",
       "      <td>7</td>\n",
       "    </tr>\n",
       "    <tr>\n",
       "      <th>7</th>\n",
       "      <td>Q102448</td>\n",
       "      <td>Harry Potter and the Prisoner of Azkaban</td>\n",
       "      <td>2140.694092</td>\n",
       "      <td>8</td>\n",
       "    </tr>\n",
       "    <tr>\n",
       "      <th>8</th>\n",
       "      <td>Q18199330</td>\n",
       "      <td>Fantastic Beasts and Where to Find Them</td>\n",
       "      <td>2350.040771</td>\n",
       "      <td>9</td>\n",
       "    </tr>\n",
       "    <tr>\n",
       "      <th>9</th>\n",
       "      <td>Q1880543</td>\n",
       "      <td>Harry Potter and the Deathly Hallows</td>\n",
       "      <td>2419.553467</td>\n",
       "      <td>10</td>\n",
       "    </tr>\n",
       "    <tr>\n",
       "      <th>10</th>\n",
       "      <td>Q216930</td>\n",
       "      <td>Harry Potter film series</td>\n",
       "      <td>2449.367432</td>\n",
       "      <td>11</td>\n",
       "    </tr>\n",
       "    <tr>\n",
       "      <th>11</th>\n",
       "      <td>Q849901</td>\n",
       "      <td>Harry Potter and the Goblet of Fire</td>\n",
       "      <td>2449.732178</td>\n",
       "      <td>12</td>\n",
       "    </tr>\n",
       "    <tr>\n",
       "      <th>12</th>\n",
       "      <td>Q18199331</td>\n",
       "      <td>Fantastic Beasts: The Crimes of Grindelwald</td>\n",
       "      <td>2490.106934</td>\n",
       "      <td>13</td>\n",
       "    </tr>\n",
       "    <tr>\n",
       "      <th>13</th>\n",
       "      <td>Q20735644</td>\n",
       "      <td>Me Before You</td>\n",
       "      <td>2509.801758</td>\n",
       "      <td>14</td>\n",
       "    </tr>\n",
       "    <tr>\n",
       "      <th>14</th>\n",
       "      <td>Q28146833</td>\n",
       "      <td>Severus Snape and the Marauders</td>\n",
       "      <td>2509.966797</td>\n",
       "      <td>15</td>\n",
       "    </tr>\n",
       "  </tbody>\n",
       "</table>\n",
       "</div>"
      ],
      "text/plain": [
       "       Entity                                          Label        Score  \\\n",
       "0     Q102225            Harry Potter and the Goblet of Fire     0.000000   \n",
       "1     Q102235      Harry Potter and the Order of the Phoenix  1839.364746   \n",
       "2     Q161678  Harry Potter and the Deathly Hallows – Part 1  1864.835327   \n",
       "3     Q161687         Harry Potter and the Half-Blood Prince  1895.976562   \n",
       "4     Q232009  Harry Potter and the Deathly Hallows – Part 2  1941.686646   \n",
       "5     Q102244        Harry Potter and the Chamber of Secrets  2000.969482   \n",
       "6     Q102438       Harry Potter and the Philosopher's Stone  2059.114502   \n",
       "7     Q102448       Harry Potter and the Prisoner of Azkaban  2140.694092   \n",
       "8   Q18199330        Fantastic Beasts and Where to Find Them  2350.040771   \n",
       "9    Q1880543           Harry Potter and the Deathly Hallows  2419.553467   \n",
       "10    Q216930                       Harry Potter film series  2449.367432   \n",
       "11    Q849901            Harry Potter and the Goblet of Fire  2449.732178   \n",
       "12  Q18199331    Fantastic Beasts: The Crimes of Grindelwald  2490.106934   \n",
       "13  Q20735644                                  Me Before You  2509.801758   \n",
       "14  Q28146833                Severus Snape and the Marauders  2509.966797   \n",
       "\n",
       "    Rank  \n",
       "0      1  \n",
       "1      2  \n",
       "2      3  \n",
       "3      4  \n",
       "4      5  \n",
       "5      6  \n",
       "6      7  \n",
       "7      8  \n",
       "8      9  \n",
       "9     10  \n",
       "10    11  \n",
       "11    12  \n",
       "12    13  \n",
       "13    14  \n",
       "14    15  "
      ]
     },
     "execution_count": 24,
     "metadata": {},
     "output_type": "execute_result"
    }
   ],
   "source": [
    "# which entities are similar to \"Harry Potter and the Goblet of Fire\"\n",
    "ent = ent2id[WD.Q102225]\n",
    "# we compare the embedding of the query entity to all other entity embeddings\n",
    "dist = pairwise_distances(entity_emb[ent].reshape(1, -1), entity_emb).reshape(-1)\n",
    "# order by plausibility\n",
    "most_likely = dist.argsort()\n",
    "\n",
    "pd.DataFrame([\n",
    "    (\n",
    "        id2ent[idx][len(WD):], # qid\n",
    "        ent2lbl[id2ent[idx]],  # label\n",
    "        dist[idx],             # score\n",
    "        rank+1,                # rank\n",
    "    )\n",
    "    for rank, idx in enumerate(most_likely[:15])],\n",
    "    columns=('Entity', 'Label', 'Score', 'Rank'))"
   ]
  },
  {
   "cell_type": "markdown",
   "metadata": {},
   "source": [
    "## Recovering categories"
   ]
  },
  {
   "cell_type": "code",
   "execution_count": 25,
   "metadata": {},
   "outputs": [
    {
     "data": {
      "text/plain": [
       "set()"
      ]
     },
     "execution_count": 25,
     "metadata": {},
     "output_type": "execute_result"
    }
   ],
   "source": [
    "# hmm, our graph contains no parent class of bridge (Q12280)...\n",
    "set(graph.objects(WD.Q12280, WDT.P279))"
   ]
  },
  {
   "cell_type": "code",
   "execution_count": 26,
   "metadata": {},
   "outputs": [
    {
     "data": {
      "text/plain": [
       "set()"
      ]
     },
     "execution_count": 26,
     "metadata": {},
     "output_type": "execute_result"
    }
   ],
   "source": [
    "# maybe an indirect subclass?\n",
    "set(graph.objects(WD.Q12280, DDIS.indirectSubclassOf))"
   ]
  },
  {
   "cell_type": "code",
   "execution_count": 27,
   "metadata": {},
   "outputs": [
    {
     "data": {
      "text/html": [
       "<div>\n",
       "<style scoped>\n",
       "    .dataframe tbody tr th:only-of-type {\n",
       "        vertical-align: middle;\n",
       "    }\n",
       "\n",
       "    .dataframe tbody tr th {\n",
       "        vertical-align: top;\n",
       "    }\n",
       "\n",
       "    .dataframe thead th {\n",
       "        text-align: right;\n",
       "    }\n",
       "</style>\n",
       "<table border=\"1\" class=\"dataframe\">\n",
       "  <thead>\n",
       "    <tr style=\"text-align: right;\">\n",
       "      <th></th>\n",
       "      <th>Entity</th>\n",
       "      <th>Label</th>\n",
       "      <th>Score</th>\n",
       "      <th>Rank</th>\n",
       "    </tr>\n",
       "  </thead>\n",
       "  <tbody>\n",
       "    <tr>\n",
       "      <th>0</th>\n",
       "      <td>Q12280</td>\n",
       "      <td>bridge</td>\n",
       "      <td>3145.157227</td>\n",
       "      <td>1</td>\n",
       "    </tr>\n",
       "    <tr>\n",
       "      <th>1</th>\n",
       "      <td>Q61457040</td>\n",
       "      <td>Ramsar site in Australia</td>\n",
       "      <td>5208.453125</td>\n",
       "      <td>2</td>\n",
       "    </tr>\n",
       "    <tr>\n",
       "      <th>2</th>\n",
       "      <td>Q6502866</td>\n",
       "      <td>cliffed coast</td>\n",
       "      <td>5241.154785</td>\n",
       "      <td>3</td>\n",
       "    </tr>\n",
       "    <tr>\n",
       "      <th>3</th>\n",
       "      <td>Q595452</td>\n",
       "      <td>baseball venue</td>\n",
       "      <td>5261.777832</td>\n",
       "      <td>4</td>\n",
       "    </tr>\n",
       "    <tr>\n",
       "      <th>4</th>\n",
       "      <td>Q19368170</td>\n",
       "      <td>Pont d'en Gómez</td>\n",
       "      <td>5276.720215</td>\n",
       "      <td>5</td>\n",
       "    </tr>\n",
       "    <tr>\n",
       "      <th>5</th>\n",
       "      <td>Q2463705</td>\n",
       "      <td>Special Protection Area</td>\n",
       "      <td>5281.016113</td>\n",
       "      <td>6</td>\n",
       "    </tr>\n",
       "    <tr>\n",
       "      <th>6</th>\n",
       "      <td>Q2066754</td>\n",
       "      <td>manor</td>\n",
       "      <td>5301.109863</td>\n",
       "      <td>7</td>\n",
       "    </tr>\n",
       "    <tr>\n",
       "      <th>7</th>\n",
       "      <td>Q17468479</td>\n",
       "      <td>district of Oulu</td>\n",
       "      <td>5323.046875</td>\n",
       "      <td>8</td>\n",
       "    </tr>\n",
       "    <tr>\n",
       "      <th>8</th>\n",
       "      <td>Q1049757</td>\n",
       "      <td>multi-purpose stadium</td>\n",
       "      <td>5326.457520</td>\n",
       "      <td>9</td>\n",
       "    </tr>\n",
       "    <tr>\n",
       "      <th>9</th>\n",
       "      <td>Q202570</td>\n",
       "      <td>Ferris wheel</td>\n",
       "      <td>5341.973633</td>\n",
       "      <td>10</td>\n",
       "    </tr>\n",
       "  </tbody>\n",
       "</table>\n",
       "</div>"
      ],
      "text/plain": [
       "      Entity                     Label        Score  Rank\n",
       "0     Q12280                    bridge  3145.157227     1\n",
       "1  Q61457040  Ramsar site in Australia  5208.453125     2\n",
       "2   Q6502866             cliffed coast  5241.154785     3\n",
       "3    Q595452            baseball venue  5261.777832     4\n",
       "4  Q19368170           Pont d'en Gómez  5276.720215     5\n",
       "5   Q2463705   Special Protection Area  5281.016113     6\n",
       "6   Q2066754                     manor  5301.109863     7\n",
       "7  Q17468479          district of Oulu  5323.046875     8\n",
       "8   Q1049757     multi-purpose stadium  5326.457520     9\n",
       "9    Q202570              Ferris wheel  5341.973633    10"
      ]
     },
     "execution_count": 27,
     "metadata": {},
     "output_type": "execute_result"
    }
   ],
   "source": [
    "# Let's see if we can recover this from embeddings...\n",
    "\n",
    "# set the head entity to bridge\n",
    "head = entity_emb[ent2id[WD.Q12280]]\n",
    "# let's try with wdt:P279 (subClassOf) first\n",
    "pred = relation_emb[rel2id[WDT.P279]]\n",
    "# combine according to the TransE scoring function\n",
    "lhs = head + pred\n",
    "# compute distance to *any* entity\n",
    "dist = pairwise_distances(lhs.reshape(1, -1), entity_emb).reshape(-1)\n",
    "# find most plausible tails\n",
    "most_likely = dist.argsort()\n",
    "# show most likely entities\n",
    "pd.DataFrame([\n",
    "    (id2ent[idx][len(WD):], ent2lbl[id2ent[idx]], dist[idx], rank+1)\n",
    "    for rank, idx in enumerate(most_likely[:10])],\n",
    "    columns=('Entity', 'Label', 'Score', 'Rank'))"
   ]
  },
  {
   "cell_type": "code",
   "execution_count": 28,
   "metadata": {},
   "outputs": [
    {
     "data": {
      "text/html": [
       "<div>\n",
       "<style scoped>\n",
       "    .dataframe tbody tr th:only-of-type {\n",
       "        vertical-align: middle;\n",
       "    }\n",
       "\n",
       "    .dataframe tbody tr th {\n",
       "        vertical-align: top;\n",
       "    }\n",
       "\n",
       "    .dataframe thead th {\n",
       "        text-align: right;\n",
       "    }\n",
       "</style>\n",
       "<table border=\"1\" class=\"dataframe\">\n",
       "  <thead>\n",
       "    <tr style=\"text-align: right;\">\n",
       "      <th></th>\n",
       "      <th>Entity</th>\n",
       "      <th>Label</th>\n",
       "      <th>Score</th>\n",
       "      <th>Rank</th>\n",
       "    </tr>\n",
       "  </thead>\n",
       "  <tbody>\n",
       "    <tr>\n",
       "      <th>0</th>\n",
       "      <td>Q12280</td>\n",
       "      <td>bridge</td>\n",
       "      <td>4617.544922</td>\n",
       "      <td>1</td>\n",
       "    </tr>\n",
       "    <tr>\n",
       "      <th>1</th>\n",
       "      <td>Q27096213</td>\n",
       "      <td>geographic entity</td>\n",
       "      <td>5803.001465</td>\n",
       "      <td>2</td>\n",
       "    </tr>\n",
       "    <tr>\n",
       "      <th>2</th>\n",
       "      <td>Q95074</td>\n",
       "      <td>fictional character</td>\n",
       "      <td>6175.950195</td>\n",
       "      <td>3</td>\n",
       "    </tr>\n",
       "    <tr>\n",
       "      <th>3</th>\n",
       "      <td>Q19368170</td>\n",
       "      <td>Pont d'en Gómez</td>\n",
       "      <td>6219.216797</td>\n",
       "      <td>4</td>\n",
       "    </tr>\n",
       "    <tr>\n",
       "      <th>4</th>\n",
       "      <td>Q2282230</td>\n",
       "      <td>River Kwai bridge</td>\n",
       "      <td>6309.948242</td>\n",
       "      <td>5</td>\n",
       "    </tr>\n",
       "    <tr>\n",
       "      <th>5</th>\n",
       "      <td>Q1323635</td>\n",
       "      <td>Petit Pont</td>\n",
       "      <td>6325.951660</td>\n",
       "      <td>6</td>\n",
       "    </tr>\n",
       "    <tr>\n",
       "      <th>6</th>\n",
       "      <td>Q6502866</td>\n",
       "      <td>cliffed coast</td>\n",
       "      <td>6327.051270</td>\n",
       "      <td>7</td>\n",
       "    </tr>\n",
       "    <tr>\n",
       "      <th>7</th>\n",
       "      <td>Q1497364</td>\n",
       "      <td>building complex</td>\n",
       "      <td>6341.214355</td>\n",
       "      <td>8</td>\n",
       "    </tr>\n",
       "    <tr>\n",
       "      <th>8</th>\n",
       "      <td>Q2151232</td>\n",
       "      <td>townland</td>\n",
       "      <td>6382.717773</td>\n",
       "      <td>9</td>\n",
       "    </tr>\n",
       "    <tr>\n",
       "      <th>9</th>\n",
       "      <td>Q2080521</td>\n",
       "      <td>market hall</td>\n",
       "      <td>6385.139160</td>\n",
       "      <td>10</td>\n",
       "    </tr>\n",
       "  </tbody>\n",
       "</table>\n",
       "</div>"
      ],
      "text/plain": [
       "      Entity                Label        Score  Rank\n",
       "0     Q12280               bridge  4617.544922     1\n",
       "1  Q27096213    geographic entity  5803.001465     2\n",
       "2     Q95074  fictional character  6175.950195     3\n",
       "3  Q19368170      Pont d'en Gómez  6219.216797     4\n",
       "4   Q2282230    River Kwai bridge  6309.948242     5\n",
       "5   Q1323635           Petit Pont  6325.951660     6\n",
       "6   Q6502866        cliffed coast  6327.051270     7\n",
       "7   Q1497364     building complex  6341.214355     8\n",
       "8   Q2151232             townland  6382.717773     9\n",
       "9   Q2080521          market hall  6385.139160    10"
      ]
     },
     "execution_count": 28,
     "metadata": {},
     "output_type": "execute_result"
    }
   ],
   "source": [
    "# ... didn't really help.\n",
    "# Let's try ddis:indirectSubclassOf next\n",
    "\n",
    "# set the head entity to bridge\n",
    "head = entity_emb[ent2id[WD.Q12280]]\n",
    "# now we try ddis:indirectSubclassOf\n",
    "pred = relation_emb[rel2id[DDIS.indirectSubclassOf]]\n",
    "# combine according to the TransE scoring function\n",
    "lhs = head + pred\n",
    "# compute distance to *any* entity\n",
    "dist = pairwise_distances(lhs.reshape(1, -1), entity_emb).reshape(-1)\n",
    "# find most plausible tails\n",
    "most_likely = dist.argsort()\n",
    "# show most likely entities\n",
    "pd.DataFrame([\n",
    "    (id2ent[idx][len(WD):], ent2lbl[id2ent[idx]], dist[idx], rank+1)\n",
    "    for rank, idx in enumerate(most_likely[:10])],\n",
    "    columns=('Entity', 'Label', 'Score', 'Rank'))"
   ]
  }
 ],
 "metadata": {
  "kernelspec": {
   "display_name": "Python 3",
   "language": "python",
   "name": "python3"
  },
  "language_info": {
   "codemirror_mode": {
    "name": "ipython",
    "version": 3
   },
   "file_extension": ".py",
   "mimetype": "text/x-python",
   "name": "python",
   "nbconvert_exporter": "python",
   "pygments_lexer": "ipython3",
   "version": "3.12.3"
  }
 },
 "nbformat": 4,
 "nbformat_minor": 2
}
